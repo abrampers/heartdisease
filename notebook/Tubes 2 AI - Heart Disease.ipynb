{
 "cells": [
  {
   "cell_type": "markdown",
   "metadata": {},
   "source": [
    "# Da best heart disease classifier in town\n",
    "- 13516083 / Abram Perdanaputra\n",
    "- 13516090 / Timothy Thamrin Andrew Hamonangan Sihombing\n",
    "- 13516093 / Muhammad Farhan\n",
    "- 13516153 / Dimas Aditia Pratikto\n",
    "- 13516155 / Restu Wahyu Kartiko"
   ]
  },
  {
   "cell_type": "code",
   "execution_count": null,
   "metadata": {},
   "outputs": [],
   "source": [
    "import pandas as pd\n",
    "from math import isnan\n",
    "\n",
    "import matplotlib.pyplot as plt\n",
    "%matplotlib inline"
   ]
  },
  {
   "cell_type": "markdown",
   "metadata": {},
   "source": [
    "## Read dataset"
   ]
  },
  {
   "cell_type": "markdown",
   "metadata": {},
   "source": [
    "Now we're going to read the `tubes2_HeartDisease_train` and `tubes2_HeartDisease_test`"
   ]
  },
  {
   "cell_type": "code",
   "execution_count": null,
   "metadata": {},
   "outputs": [],
   "source": [
    "heart_disease = {}\n",
    "heart_disease['columns_detail'] = [\n",
    "    'Age', \n",
    "    'Sex', \n",
    "    'Pain type', \n",
    "    'Blood pressure', \n",
    "    'Serum cholesterol', \n",
    "    'Fasting blood sugar > 120mg/dl', \n",
    "    'Resting ECG', \n",
    "    'Max heart rate achieved', \n",
    "    'exercise induced agina', \n",
    "    'ST depression induced by exercise relative to rest', \n",
    "    'Peak exercise ST segment', \n",
    "    'Number of major vessels colored by flourosopy', \n",
    "    'Thal', \n",
    "    'Diagnosis'\n",
    "]\n",
    "heart_disease['train'] = pd.read_csv('../data/tubes2_HeartDisease_train.csv')\n",
    "heart_disease['test'] = pd.read_csv('../data/tubes2_HeartDisease_test.csv')"
   ]
  },
  {
   "cell_type": "code",
   "execution_count": null,
   "metadata": {},
   "outputs": [],
   "source": [
    "heart_disease['train']"
   ]
  },
  {
   "cell_type": "markdown",
   "metadata": {},
   "source": [
    "## Data preprocessing"
   ]
  },
  {
   "cell_type": "code",
   "execution_count": null,
   "metadata": {},
   "outputs": [],
   "source": [
    "# Helpers\n",
    "def preprocess_data(data):\n",
    "    data.loc[data['Column3'] == 1, 'Column3'] = 'typical_agina'\n",
    "    data.loc[data['Column3'] == 2, 'Column3'] = 'atypical_agina'\n",
    "    data.loc[data['Column3'] == 3, 'Column3'] = 'non_aginal_pain'\n",
    "    data.loc[data['Column3'] == 4, 'Column3'] = 'asymtotic'\n",
    "    \n",
    "    data.loc[data['Column4'].isnull(), 'Column4'] = 132.355191\n",
    "    data.loc[data['Column5'].isnull(), 'Column5'] = 200.309934\n",
    "    data.loc[data['Column5'].isnull(), 'Column5'] = 0.0\n",
    "\n",
    "    data.loc[data['Column7'] == '0', 'Column7'] = 'normal'\n",
    "    data.loc[data['Column7'] == '1', 'Column7'] = 'having ST-T wave abnormality'\n",
    "    data.loc[data['Column7'] == '2', 'Column7'] = 'left ventricular hyperthrophy'\n",
    "    data.loc[data['Column7'] == '?', 'Column7'] = 'normal'\n",
    "\n",
    "    data.loc[data['Column8'].isnull(), 'Column8'] = 138.348299\n",
    "    data.loc[data['Column9'].isnull(), 'Column9'] = 0.0\n",
    "    data.loc[data['Column10'].isnull(), 'Column10'] = 3.937397\n",
    "\n",
    "    data.loc[data['Column11'] == '1', 'Column11'] = 'upsloping'\n",
    "    data.loc[data['Column11'] == '2', 'Column11'] = 'flat'\n",
    "    data.loc[data['Column11'] == '3', 'Column11'] = 'downsloping'\n",
    "    data.loc[data['Column11'] == '?', 'Column11'] = 'flat'\n",
    "    \n",
    "    data.loc[data['Column12'].isnull(), 'Column12'] = 0.686792\n",
    "\n",
    "    data.loc[data['Column13'] == '3', 'Column13'] = 'normal'\n",
    "    data.loc[data['Column13'] == '6', 'Column13'] = 'fixed_defect'\n",
    "    data.loc[data['Column13'] == '7', 'Column13'] = 'reversable_defect'\n",
    "    \n",
    "    data.Column4 = pd.to_numeric(data.Column4, errors='coerce')\n",
    "    data.Column5 = pd.to_numeric(data.Column5, errors='coerce')\n",
    "    data.Column6 = pd.to_numeric(data.Column6, errors='coerce')\n",
    "    data.Column8 = pd.to_numeric(data.Column8, errors='coerce')\n",
    "    data.Column9 = pd.to_numeric(data.Column9, errors='coerce')\n",
    "    data.Column10 = pd.to_numeric(data.Column10, errors='coerce')\n",
    "    data.Column12 = pd.to_numeric(data.Column12, errors='coerce')\n",
    "    return data"
   ]
  },
  {
   "cell_type": "markdown",
   "metadata": {},
   "source": [
    "2 jenis:\n",
    "1. numeric\n",
    "    - preprocess: normalize\n",
    "    - null: mean or median, or buat model yang ditrain di datayang ganull, terus predict null\n",
    "2. categorical\n",
    "    1. Nominal: urutan gangaruh (fakultas)\n",
    "         - preprocess: one hot encoding\n",
    "    2. ordinal: categorical yang urutan ngaruh (rating)\n",
    "         - preprocess: label encoding pd.get dummies"
   ]
  },
  {
   "cell_type": "code",
   "execution_count": null,
   "metadata": {},
   "outputs": [],
   "source": [
    "heart_disease['train'] = preprocess_data(heart_disease['train'])\n",
    "heart_disease['train']#[heart_disease['train']['Column7'].astype(str) == '?']"
   ]
  },
  {
   "cell_type": "code",
   "execution_count": null,
   "metadata": {},
   "outputs": [],
   "source": [
    "df = pd.get_dummies(heart_disease['train'])\n",
    "df.columns"
   ]
  },
  {
   "cell_type": "markdown",
   "metadata": {},
   "source": [
    "## Experiment"
   ]
  },
  {
   "cell_type": "code",
   "execution_count": null,
   "metadata": {},
   "outputs": [],
   "source": []
  }
 ],
 "metadata": {
  "kernelspec": {
   "display_name": "Python 3",
   "language": "python",
   "name": "python3"
  },
  "language_info": {
   "codemirror_mode": {
    "name": "ipython",
    "version": 3
   },
   "file_extension": ".py",
   "mimetype": "text/x-python",
   "name": "python",
   "nbconvert_exporter": "python",
   "pygments_lexer": "ipython3",
   "version": "3.6.3"
  }
 },
 "nbformat": 4,
 "nbformat_minor": 2
}
