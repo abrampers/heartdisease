{
 "cells": [
  {
   "cell_type": "markdown",
   "metadata": {},
   "source": [
    "# Da best heart disease classifier in town\n",
    "- 13516083 / Abram Perdanaputra\n",
    "- 13516090 / Timothy Thamrin Andrew Hamonangan Sihombing\n",
    "- 13516093 / Muhammad Farhan\n",
    "- 13516153 / Dimas Aditia Pratikto\n",
    "- 13516155 / Restu Wahyu Kartiko"
   ]
  },
  {
   "cell_type": "code",
   "execution_count": null,
   "metadata": {},
   "outputs": [],
   "source": [
    "import pandas as pd\n",
    "from sklearn.model_selection import cross_val_score\n",
    "from sklearn.neighbors import KNeighborsClassifier\n",
    "\n",
    "import matplotlib.pyplot as plt\n",
    "import numpy as np\n",
    "import copy\n",
    "%matplotlib inline"
   ]
  },
  {
   "cell_type": "markdown",
   "metadata": {},
   "source": [
    "## Read dataset"
   ]
  },
  {
   "cell_type": "markdown",
   "metadata": {},
   "source": [
    "Now we're going to read the `tubes2_HeartDisease_train` and `tubes2_HeartDisease_test`"
   ]
  },
  {
   "cell_type": "code",
   "execution_count": null,
   "metadata": {},
   "outputs": [],
   "source": [
    "heart_disease = {}\n",
    "heart_disease['columns_detail'] = [\n",
    "    'Age', \n",
    "    'Sex', \n",
    "    'Pain type', \n",
    "    'Blood pressure', \n",
    "    'Serum cholesterol', \n",
    "    'Fasting blood sugar > 120mg/dl', \n",
    "    'Resting ECG', \n",
    "    'Max heart rate achieved', \n",
    "    'exercise induced agina', \n",
    "    'ST depression induced by exercise relative to rest', \n",
    "    'Peak exercise ST segment', \n",
    "    'Number of major vessels colored by flourosopy', \n",
    "    'Thal', \n",
    "    'Diagnosis'\n",
    "]\n",
    "heart_disease['train'] = pd.read_csv('../data/tubes2_HeartDisease_train.csv')\n",
    "heart_disease['test'] = pd.read_csv('../data/tubes2_HeartDisease_test.csv')"
   ]
  },
  {
   "cell_type": "code",
   "execution_count": null,
   "metadata": {},
   "outputs": [],
   "source": [
    "heart_disease['train'].head()"
   ]
  },
  {
   "cell_type": "markdown",
   "metadata": {},
   "source": [
    "## Data preprocessing"
   ]
  },
  {
   "cell_type": "code",
   "execution_count": null,
   "metadata": {},
   "outputs": [],
   "source": [
    "# Helpers\n",
    "def preprocess_data(train_data):\n",
    "    data = copy.deepcopy(train_data)\n",
    "    data.Column4 = pd.to_numeric(data.Column4, errors='coerce')\n",
    "    data.Column5 = pd.to_numeric(data.Column5, errors='coerce')\n",
    "    data.Column6 = pd.to_numeric(data.Column6, errors='coerce')\n",
    "    data.Column8 = pd.to_numeric(data.Column8, errors='coerce')\n",
    "    data.Column9 = pd.to_numeric(data.Column9, errors='coerce')\n",
    "    data.Column10 = pd.to_numeric(data.Column10, errors='coerce')\n",
    "    data.Column12 = pd.to_numeric(data.Column12, errors='coerce')\n",
    "    \n",
    "    data.loc[data['Column3'] == 1, 'Column3'] = 'typical_agina'\n",
    "    data.loc[data['Column3'] == 2, 'Column3'] = 'atypical_agina'\n",
    "    data.loc[data['Column3'] == 3, 'Column3'] = 'non_aginal_pain'\n",
    "    data.loc[data['Column3'] == 4, 'Column3'] = 'asymtotic'\n",
    "    \n",
    "    data.loc[data['Column4'].isnull(), 'Column4'] = data['Column4'].mean()\n",
    "    data.loc[data['Column5'].isnull(), 'Column5'] = data['Column5'].mean()\n",
    "    data.loc[data['Column6'].isnull(), 'Column6'] = 0\n",
    "\n",
    "    data.loc[data['Column7'] == '0', 'Column7'] = 'normal'\n",
    "    data.loc[data['Column7'] == '1', 'Column7'] = 'having ST-T wave abnormality'\n",
    "    data.loc[data['Column7'] == '2', 'Column7'] = 'left ventricular hyperthrophy'\n",
    "    data.loc[data['Column7'] == '?', 'Column7'] = 'normal'\n",
    "\n",
    "    data.loc[data['Column8'].isnull(), 'Column8'] = 138.348299\n",
    "    data.loc[data['Column9'].isnull(), 'Column9'] = 0.0\n",
    "    data.loc[data['Column10'].isnull(), 'Column10'] = 3.937397\n",
    "\n",
    "    data.loc[data['Column11'] == '1', 'Column11'] = 'upsloping'\n",
    "    data.loc[data['Column11'] == '2', 'Column11'] = 'flat'\n",
    "    data.loc[data['Column11'] == '3', 'Column11'] = 'downsloping'\n",
    "    data.loc[data['Column11'] == '?', 'Column11'] = 'flat'\n",
    "    \n",
    "#     data.loc[data['Column12'].isnull(), 'Column12'] = 0.686792\n",
    "\n",
    "    data.loc[data['Column13'] == '3', 'Column13'] = 'normal'\n",
    "    data.loc[data['Column13'] == '6', 'Column13'] = 'fixed_defect'\n",
    "    data.loc[data['Column13'] == '7', 'Column13'] = 'reversable_defect'\n",
    "    for i, row in data.iterrows():\n",
    "        if row['Column13'] == '?':\n",
    "            data.loc[i, 'Column13'] = np.random.choice(['normal', 'reversable_defect', 'fixed_defect'], \\\n",
    "                                               size=1,\\\n",
    "                                               p=[0.46630727762803237, 0.42857142857142855, 0.10512129380053908])[0]\n",
    "        if np.isnan(row['Column12']):\n",
    "            data.loc[i, 'Column12'] = np.random.choice([0, 1, 2, 3], \\\n",
    "                                               size=1,\\\n",
    "                                               p=[0.5773584905660377, 0.22264150943396227, 0.13584905660377358, 0.06415094339622641])[0]\n",
    "    return data"
   ]
  },
  {
   "cell_type": "markdown",
   "metadata": {},
   "source": [
    "2 jenis:\n",
    "1. numeric\n",
    "    - preprocess: normalize\n",
    "    - null: mean or median, or buat model yang ditrain di datayang ganull, terus predict null\n",
    "2. categorical\n",
    "    1. Nominal: urutan gangaruh (fakultas)\n",
    "         - preprocess: one hot encoding\n",
    "    2. ordinal: categorical yang urutan ngaruh (rating)\n",
    "         - preprocess: label encoding pd.get dummies"
   ]
  },
  {
   "cell_type": "code",
   "execution_count": null,
   "metadata": {},
   "outputs": [],
   "source": [
    "heart_disease['train'].replace([np.inf, -np.inf], np.nan)\n",
    "heart_disease['train'] = preprocess_data(heart_disease['train'])"
   ]
  },
  {
   "cell_type": "code",
   "execution_count": null,
   "metadata": {},
   "outputs": [],
   "source": [
    "heart_disease['train']['Column12'].value_counts().plot.bar()"
   ]
  },
  {
   "cell_type": "code",
   "execution_count": null,
   "metadata": {},
   "outputs": [],
   "source": [
    "heart_disease['train'] = pd.get_dummies(heart_disease['train'])\n",
    "heart_disease['train'].head()"
   ]
  },
  {
   "cell_type": "markdown",
   "metadata": {},
   "source": [
    "## Experiment"
   ]
  },
  {
   "cell_type": "code",
   "execution_count": null,
   "metadata": {},
   "outputs": [],
   "source": [
    "cv = 15"
   ]
  },
  {
   "cell_type": "markdown",
   "metadata": {},
   "source": [
    "### K-Nearest Neighbor"
   ]
  },
  {
   "cell_type": "markdown",
   "metadata": {},
   "source": [
    "Hyperparameters"
   ]
  },
  {
   "cell_type": "code",
   "execution_count": null,
   "metadata": {},
   "outputs": [],
   "source": [
    "num_neighbor = 5"
   ]
  },
  {
   "cell_type": "markdown",
   "metadata": {},
   "source": [
    "Preprocess"
   ]
  },
  {
   "cell_type": "code",
   "execution_count": null,
   "metadata": {},
   "outputs": [],
   "source": [
    "def preprocess_KNN(train_data):\n",
    "    data = copy.deepcopy(train_data)\n",
    "    data = data.drop(['Column13_normal', 'Column13_fixed_defect', 'Column13_reversable_defect'], axis=1)\n",
    "    return data\n",
    "df = preprocess_KNN(heart_disease['train'])\n",
    "# df = heart_disease['train']"
   ]
  },
  {
   "cell_type": "markdown",
   "metadata": {},
   "source": [
    "F1 Score"
   ]
  },
  {
   "cell_type": "code",
   "execution_count": null,
   "metadata": {},
   "outputs": [],
   "source": [
    "KNN = KNeighborsClassifier(n_neighbors=num_neighbor, algorithm='ball_tree')\n",
    "f1_scores = cross_val_score(KNN, df.loc[:, df.columns != 'Column14']\\\n",
    "                , df['Column14'], cv=cv, scoring='f1_micro')\n",
    "print(\"F1 Score: {:.4f} +- {:.4f}\".format(f1_scores.mean(), f1_scores.std()))"
   ]
  },
  {
   "cell_type": "markdown",
   "metadata": {},
   "source": [
    "### Naive Bayes"
   ]
  },
  {
   "cell_type": "markdown",
   "metadata": {},
   "source": [
    "Hyperparameters"
   ]
  },
  {
   "cell_type": "code",
   "execution_count": null,
   "metadata": {},
   "outputs": [],
   "source": []
  },
  {
   "cell_type": "markdown",
   "metadata": {},
   "source": [
    "Preprocess"
   ]
  },
  {
   "cell_type": "code",
   "execution_count": null,
   "metadata": {},
   "outputs": [],
   "source": []
  },
  {
   "cell_type": "markdown",
   "metadata": {},
   "source": [
    "F1 Score"
   ]
  },
  {
   "cell_type": "code",
   "execution_count": null,
   "metadata": {},
   "outputs": [],
   "source": []
  },
  {
   "cell_type": "markdown",
   "metadata": {},
   "source": [
    "### Decision Tree (ID3)"
   ]
  },
  {
   "cell_type": "markdown",
   "metadata": {},
   "source": [
    "Hyperparameters"
   ]
  },
  {
   "cell_type": "code",
   "execution_count": null,
   "metadata": {},
   "outputs": [],
   "source": []
  },
  {
   "cell_type": "markdown",
   "metadata": {},
   "source": [
    "Preprocess"
   ]
  },
  {
   "cell_type": "code",
   "execution_count": null,
   "metadata": {},
   "outputs": [],
   "source": []
  },
  {
   "cell_type": "markdown",
   "metadata": {},
   "source": [
    "F1 Score"
   ]
  },
  {
   "cell_type": "code",
   "execution_count": null,
   "metadata": {},
   "outputs": [],
   "source": []
  },
  {
   "cell_type": "markdown",
   "metadata": {},
   "source": [
    "### Multilayer Perceptron"
   ]
  },
  {
   "cell_type": "markdown",
   "metadata": {},
   "source": [
    "Hyperparameters"
   ]
  },
  {
   "cell_type": "code",
   "execution_count": null,
   "metadata": {},
   "outputs": [],
   "source": []
  },
  {
   "cell_type": "markdown",
   "metadata": {},
   "source": [
    "Preprocess"
   ]
  },
  {
   "cell_type": "code",
   "execution_count": null,
   "metadata": {},
   "outputs": [],
   "source": []
  },
  {
   "cell_type": "markdown",
   "metadata": {},
   "source": [
    "huyu"
   ]
  },
  {
   "cell_type": "code",
   "execution_count": null,
   "metadata": {},
   "outputs": [],
   "source": []
  }
 ],
 "metadata": {
  "kernelspec": {
   "display_name": "Python 3",
   "language": "python",
   "name": "python3"
  },
  "language_info": {
   "codemirror_mode": {
    "name": "ipython",
    "version": 3
   },
   "file_extension": ".py",
   "mimetype": "text/x-python",
   "name": "python",
   "nbconvert_exporter": "python",
   "pygments_lexer": "ipython3",
   "version": "3.6.3"
  }
 },
 "nbformat": 4,
 "nbformat_minor": 2
}
