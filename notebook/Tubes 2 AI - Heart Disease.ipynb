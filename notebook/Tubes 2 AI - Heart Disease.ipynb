{
 "cells": [
  {
   "cell_type": "markdown",
   "metadata": {},
   "source": [
    "# Da best heart disease classifier in town\n",
    "- 13516083 / Abram Perdanaputra\n",
    "- 13516090 / Timothy Thamrin Andrew Hamonangan Sihombing\n",
    "- 13516093 / Muhammad Farhan\n",
    "- 13516153 / Dimas Aditia Pratikto\n",
    "- 13516155 / Restu Wahyu Kartiko"
   ]
  },
  {
   "cell_type": "code",
   "execution_count": 21,
   "metadata": {},
   "outputs": [],
   "source": [
    "import pandas as pd\n",
    "\n",
    "import matplotlib.pyplot as plt\n",
    "%matplotlib inline"
   ]
  },
  {
   "cell_type": "markdown",
   "metadata": {},
   "source": [
    "## Read data"
   ]
  },
  {
   "cell_type": "code",
   "execution_count": 72,
   "metadata": {},
   "outputs": [],
   "source": [
    "heart_disease = {}\n",
    "heart_disease['columns'] = [\n",
    "    'Age', \n",
    "    'Sex', \n",
    "    'Pain type', \n",
    "    'Blood pressure', \n",
    "    'Serum cholesterol', \n",
    "    'Fasting blood sugar > 120mg/dl', \n",
    "    'Resting ECG', \n",
    "    'Max heart rate achieved', \n",
    "    'exercise induced agina', \n",
    "    'ST depression induced by exercise relative to rest', \n",
    "    'Peak exercise ST segment', \n",
    "    'Number of major vessels colored by flourosopy', \n",
    "    'Thal', \n",
    "    'Diagnosis'\n",
    "]\n",
    "heart_disease['train'] = pd.read_csv('../data/tubes2_HeartDisease_train.csv', skiprows=[0], names=heart_disease['columns'])\n",
    "heart_disease['test'] = pd.read_csv('../data/tubes2_HeartDisease_test.csv', skiprows=[0], names=heart_disease['columns'])"
   ]
  },
  {
   "cell_type": "markdown",
   "metadata": {},
   "source": [
    "## Exploratory data analysis"
   ]
  },
  {
   "cell_type": "code",
   "execution_count": 73,
   "metadata": {},
   "outputs": [
    {
     "data": {
      "text/html": [
       "<div>\n",
       "<style>\n",
       "    .dataframe thead tr:only-child th {\n",
       "        text-align: right;\n",
       "    }\n",
       "\n",
       "    .dataframe thead th {\n",
       "        text-align: left;\n",
       "    }\n",
       "\n",
       "    .dataframe tbody tr th {\n",
       "        vertical-align: top;\n",
       "    }\n",
       "</style>\n",
       "<table border=\"1\" class=\"dataframe\">\n",
       "  <thead>\n",
       "    <tr style=\"text-align: right;\">\n",
       "      <th></th>\n",
       "      <th>Age</th>\n",
       "      <th>Sex</th>\n",
       "      <th>Pain type</th>\n",
       "      <th>Blood pressure</th>\n",
       "      <th>Serum cholesterol</th>\n",
       "      <th>Fasting blood sugar &gt; 120mg/dl</th>\n",
       "      <th>Resting ECG</th>\n",
       "      <th>Max heart rate achieved</th>\n",
       "      <th>exercise induced agina</th>\n",
       "      <th>ST depression induced by exercise relative to rest</th>\n",
       "      <th>Peak exercise ST segment</th>\n",
       "      <th>Number of major vessels colored by flourosopy</th>\n",
       "      <th>Thal</th>\n",
       "      <th>Diagnosis</th>\n",
       "    </tr>\n",
       "  </thead>\n",
       "  <tbody>\n",
       "    <tr>\n",
       "      <th>0</th>\n",
       "      <td>54</td>\n",
       "      <td>1</td>\n",
       "      <td>4</td>\n",
       "      <td>125</td>\n",
       "      <td>216</td>\n",
       "      <td>0</td>\n",
       "      <td>0</td>\n",
       "      <td>140</td>\n",
       "      <td>0</td>\n",
       "      <td>0</td>\n",
       "      <td>?</td>\n",
       "      <td>?</td>\n",
       "      <td>?</td>\n",
       "      <td>1</td>\n",
       "    </tr>\n",
       "    <tr>\n",
       "      <th>1</th>\n",
       "      <td>55</td>\n",
       "      <td>1</td>\n",
       "      <td>4</td>\n",
       "      <td>158</td>\n",
       "      <td>217</td>\n",
       "      <td>0</td>\n",
       "      <td>0</td>\n",
       "      <td>110</td>\n",
       "      <td>1</td>\n",
       "      <td>2.5</td>\n",
       "      <td>2</td>\n",
       "      <td>?</td>\n",
       "      <td>?</td>\n",
       "      <td>1</td>\n",
       "    </tr>\n",
       "    <tr>\n",
       "      <th>2</th>\n",
       "      <td>54</td>\n",
       "      <td>0</td>\n",
       "      <td>3</td>\n",
       "      <td>135</td>\n",
       "      <td>304</td>\n",
       "      <td>1</td>\n",
       "      <td>0</td>\n",
       "      <td>170</td>\n",
       "      <td>0</td>\n",
       "      <td>0</td>\n",
       "      <td>1</td>\n",
       "      <td>0</td>\n",
       "      <td>3</td>\n",
       "      <td>0</td>\n",
       "    </tr>\n",
       "    <tr>\n",
       "      <th>3</th>\n",
       "      <td>48</td>\n",
       "      <td>0</td>\n",
       "      <td>3</td>\n",
       "      <td>120</td>\n",
       "      <td>195</td>\n",
       "      <td>0</td>\n",
       "      <td>0</td>\n",
       "      <td>125</td>\n",
       "      <td>0</td>\n",
       "      <td>0</td>\n",
       "      <td>?</td>\n",
       "      <td>?</td>\n",
       "      <td>?</td>\n",
       "      <td>0</td>\n",
       "    </tr>\n",
       "    <tr>\n",
       "      <th>4</th>\n",
       "      <td>50</td>\n",
       "      <td>1</td>\n",
       "      <td>4</td>\n",
       "      <td>120</td>\n",
       "      <td>0</td>\n",
       "      <td>0</td>\n",
       "      <td>1</td>\n",
       "      <td>156</td>\n",
       "      <td>1</td>\n",
       "      <td>0</td>\n",
       "      <td>1</td>\n",
       "      <td>?</td>\n",
       "      <td>6</td>\n",
       "      <td>3</td>\n",
       "    </tr>\n",
       "  </tbody>\n",
       "</table>\n",
       "</div>"
      ],
      "text/plain": [
       "   Age  Sex  Pain type Blood pressure Serum cholesterol  \\\n",
       "0   54    1          4            125               216   \n",
       "1   55    1          4            158               217   \n",
       "2   54    0          3            135               304   \n",
       "3   48    0          3            120               195   \n",
       "4   50    1          4            120                 0   \n",
       "\n",
       "  Fasting blood sugar > 120mg/dl Resting ECG Max heart rate achieved  \\\n",
       "0                              0           0                     140   \n",
       "1                              0           0                     110   \n",
       "2                              1           0                     170   \n",
       "3                              0           0                     125   \n",
       "4                              0           1                     156   \n",
       "\n",
       "  exercise induced agina ST depression induced by exercise relative to rest  \\\n",
       "0                      0                                                  0   \n",
       "1                      1                                                2.5   \n",
       "2                      0                                                  0   \n",
       "3                      0                                                  0   \n",
       "4                      1                                                  0   \n",
       "\n",
       "  Peak exercise ST segment Number of major vessels colored by flourosopy Thal  \\\n",
       "0                        ?                                             ?    ?   \n",
       "1                        2                                             ?    ?   \n",
       "2                        1                                             0    3   \n",
       "3                        ?                                             ?    ?   \n",
       "4                        1                                             ?    6   \n",
       "\n",
       "   Diagnosis  \n",
       "0          1  \n",
       "1          1  \n",
       "2          0  \n",
       "3          0  \n",
       "4          3  "
      ]
     },
     "execution_count": 73,
     "metadata": {},
     "output_type": "execute_result"
    }
   ],
   "source": [
    "heart_disease['train'].head()"
   ]
  },
  {
   "cell_type": "markdown",
   "metadata": {},
   "source": [
    "Check for NULL values"
   ]
  },
  {
   "cell_type": "code",
   "execution_count": 111,
   "metadata": {},
   "outputs": [
    {
     "data": {
      "text/html": [
       "<div>\n",
       "<style>\n",
       "    .dataframe thead tr:only-child th {\n",
       "        text-align: right;\n",
       "    }\n",
       "\n",
       "    .dataframe thead th {\n",
       "        text-align: left;\n",
       "    }\n",
       "\n",
       "    .dataframe tbody tr th {\n",
       "        vertical-align: top;\n",
       "    }\n",
       "</style>\n",
       "<table border=\"1\" class=\"dataframe\">\n",
       "  <thead>\n",
       "    <tr style=\"text-align: right;\">\n",
       "      <th></th>\n",
       "      <th>Age</th>\n",
       "      <th>Sex</th>\n",
       "      <th>Pain type</th>\n",
       "      <th>Blood pressure</th>\n",
       "      <th>Serum cholesterol</th>\n",
       "      <th>Fasting blood sugar &gt; 120mg/dl</th>\n",
       "      <th>Resting ECG</th>\n",
       "      <th>Max heart rate achieved</th>\n",
       "      <th>exercise induced agina</th>\n",
       "      <th>ST depression induced by exercise relative to rest</th>\n",
       "      <th>Peak exercise ST segment</th>\n",
       "      <th>Number of major vessels colored by flourosopy</th>\n",
       "      <th>Thal</th>\n",
       "      <th>Diagnosis</th>\n",
       "    </tr>\n",
       "  </thead>\n",
       "  <tbody>\n",
       "    <tr>\n",
       "      <th>Num</th>\n",
       "      <td>0</td>\n",
       "      <td>0</td>\n",
       "      <td>0</td>\n",
       "      <td>47</td>\n",
       "      <td>24</td>\n",
       "      <td>78</td>\n",
       "      <td>2</td>\n",
       "      <td>44</td>\n",
       "      <td>44</td>\n",
       "      <td>49</td>\n",
       "      <td>262</td>\n",
       "      <td>514</td>\n",
       "      <td>408</td>\n",
       "      <td>0</td>\n",
       "    </tr>\n",
       "    <tr>\n",
       "      <th>%</th>\n",
       "      <td>0</td>\n",
       "      <td>0</td>\n",
       "      <td>0</td>\n",
       "      <td>6</td>\n",
       "      <td>3</td>\n",
       "      <td>10</td>\n",
       "      <td>0</td>\n",
       "      <td>5</td>\n",
       "      <td>5</td>\n",
       "      <td>6</td>\n",
       "      <td>33</td>\n",
       "      <td>65</td>\n",
       "      <td>52</td>\n",
       "      <td>0</td>\n",
       "    </tr>\n",
       "  </tbody>\n",
       "</table>\n",
       "</div>"
      ],
      "text/plain": [
       "     Age  Sex  Pain type  Blood pressure  Serum cholesterol  \\\n",
       "Num    0    0          0              47                 24   \n",
       "%      0    0          0               6                  3   \n",
       "\n",
       "     Fasting blood sugar > 120mg/dl  Resting ECG  Max heart rate achieved  \\\n",
       "Num                              78            2                       44   \n",
       "%                                10            0                        5   \n",
       "\n",
       "     exercise induced agina  \\\n",
       "Num                      44   \n",
       "%                         5   \n",
       "\n",
       "     ST depression induced by exercise relative to rest  \\\n",
       "Num                                                 49    \n",
       "%                                                    6    \n",
       "\n",
       "     Peak exercise ST segment  Number of major vessels colored by flourosopy  \\\n",
       "Num                       262                                            514   \n",
       "%                          33                                             65   \n",
       "\n",
       "     Thal  Diagnosis  \n",
       "Num   408          0  \n",
       "%      52          0  "
      ]
     },
     "execution_count": 111,
     "metadata": {},
     "output_type": "execute_result"
    }
   ],
   "source": [
    "null = [[], [0, 0, 0, 0, 0, 0, 0, 0, 0, 0, 0, 0, 0, 0]]\n",
    "a = heart_disease['train'].isnull().sum()\n",
    "null[0] = [a[i] for i in range(len(a))]\n",
    "for i, col in enumerate(heart_disease['train'].columns):\n",
    "    null_train = heart_disease['train'][heart_disease['train'][col].astype(str) == '?']\n",
    "    null[0][i] += int(null_train.shape[0])\n",
    "    null[1][i] += null[0][i] / heart_disease['train'].shape[0] * 100\n",
    "    \n",
    "null_df = pd.DataFrame(null, columns=heart_disease['columns'], index=['Num', '%'], dtype=int)\n",
    "null_df"
   ]
  },
  {
   "cell_type": "markdown",
   "metadata": {},
   "source": [
    "- <b>Univariate data visualization</b>"
   ]
  },
  {
   "cell_type": "code",
   "execution_count": null,
   "metadata": {},
   "outputs": [],
   "source": []
  },
  {
   "cell_type": "markdown",
   "metadata": {},
   "source": [
    "- <b>Bivariate data visualization</b>"
   ]
  },
  {
   "cell_type": "code",
   "execution_count": null,
   "metadata": {},
   "outputs": [],
   "source": []
  },
  {
   "cell_type": "markdown",
   "metadata": {},
   "source": [
    "- <b>Multivariate data visualization</b>"
   ]
  },
  {
   "cell_type": "code",
   "execution_count": null,
   "metadata": {},
   "outputs": [],
   "source": []
  },
  {
   "cell_type": "markdown",
   "metadata": {},
   "source": [
    "- <b>Dimensionality reduction</b>"
   ]
  },
  {
   "cell_type": "code",
   "execution_count": null,
   "metadata": {},
   "outputs": [],
   "source": []
  },
  {
   "cell_type": "markdown",
   "metadata": {},
   "source": [
    "## Data preprocessing"
   ]
  },
  {
   "cell_type": "markdown",
   "metadata": {},
   "source": [
    "2 jenis:\n",
    "1. numeric\n",
    "    - preprocess: normalize\n",
    "    - null: mean or median, or buat model yang ditrain di datayang ganull, terus predict null\n",
    "2. categorical\n",
    "    1. Nominal: urutan gangaruh (fakultas)\n",
    "         - preprocess: one hot encoding\n",
    "    2. ordinal: categorical yang urutan ngaruh (rating)\n",
    "         - preprocess: label encoding pd.get dummies"
   ]
  },
  {
   "cell_type": "code",
   "execution_count": null,
   "metadata": {},
   "outputs": [],
   "source": []
  },
  {
   "cell_type": "markdown",
   "metadata": {},
   "source": [
    "## Experiment"
   ]
  },
  {
   "cell_type": "code",
   "execution_count": null,
   "metadata": {},
   "outputs": [],
   "source": []
  }
 ],
 "metadata": {
  "kernelspec": {
   "display_name": "Python 3",
   "language": "python",
   "name": "python3"
  },
  "language_info": {
   "codemirror_mode": {
    "name": "ipython",
    "version": 3
   },
   "file_extension": ".py",
   "mimetype": "text/x-python",
   "name": "python",
   "nbconvert_exporter": "python",
   "pygments_lexer": "ipython3",
   "version": "3.6.3"
  }
 },
 "nbformat": 4,
 "nbformat_minor": 2
}
